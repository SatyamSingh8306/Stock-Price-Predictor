{
 "cells": [
  {
   "cell_type": "code",
   "execution_count": 1,
   "metadata": {},
   "outputs": [],
   "source": [
    "import pandas as pd\n",
    "import numpy as np"
   ]
  },
  {
   "cell_type": "code",
   "execution_count": 2,
   "metadata": {},
   "outputs": [],
   "source": [
    "df = pd.read_csv(\"TSLA.csv\")"
   ]
  },
  {
   "cell_type": "code",
   "execution_count": 3,
   "metadata": {},
   "outputs": [
    {
     "data": {
      "text/html": [
       "<div>\n",
       "<style scoped>\n",
       "    .dataframe tbody tr th:only-of-type {\n",
       "        vertical-align: middle;\n",
       "    }\n",
       "\n",
       "    .dataframe tbody tr th {\n",
       "        vertical-align: top;\n",
       "    }\n",
       "\n",
       "    .dataframe thead th {\n",
       "        text-align: right;\n",
       "    }\n",
       "</style>\n",
       "<table border=\"1\" class=\"dataframe\">\n",
       "  <thead>\n",
       "    <tr style=\"text-align: right;\">\n",
       "      <th></th>\n",
       "      <th>Date</th>\n",
       "      <th>High</th>\n",
       "      <th>Low</th>\n",
       "      <th>Open</th>\n",
       "      <th>Close</th>\n",
       "      <th>Volume</th>\n",
       "      <th>Adj Close</th>\n",
       "    </tr>\n",
       "  </thead>\n",
       "  <tbody>\n",
       "    <tr>\n",
       "      <th>0</th>\n",
       "      <td>2019-09-30</td>\n",
       "      <td>48.796001</td>\n",
       "      <td>47.222000</td>\n",
       "      <td>48.599998</td>\n",
       "      <td>48.174000</td>\n",
       "      <td>29399000.0</td>\n",
       "      <td>48.174000</td>\n",
       "    </tr>\n",
       "    <tr>\n",
       "      <th>1</th>\n",
       "      <td>2019-10-01</td>\n",
       "      <td>49.189999</td>\n",
       "      <td>47.826000</td>\n",
       "      <td>48.299999</td>\n",
       "      <td>48.938000</td>\n",
       "      <td>30813000.0</td>\n",
       "      <td>48.938000</td>\n",
       "    </tr>\n",
       "    <tr>\n",
       "      <th>2</th>\n",
       "      <td>2019-10-02</td>\n",
       "      <td>48.930000</td>\n",
       "      <td>47.886002</td>\n",
       "      <td>48.658001</td>\n",
       "      <td>48.625999</td>\n",
       "      <td>28157000.0</td>\n",
       "      <td>48.625999</td>\n",
       "    </tr>\n",
       "    <tr>\n",
       "      <th>3</th>\n",
       "      <td>2019-10-03</td>\n",
       "      <td>46.896000</td>\n",
       "      <td>44.855999</td>\n",
       "      <td>46.372002</td>\n",
       "      <td>46.605999</td>\n",
       "      <td>75422500.0</td>\n",
       "      <td>46.605999</td>\n",
       "    </tr>\n",
       "    <tr>\n",
       "      <th>4</th>\n",
       "      <td>2019-10-04</td>\n",
       "      <td>46.956001</td>\n",
       "      <td>45.613998</td>\n",
       "      <td>46.321999</td>\n",
       "      <td>46.285999</td>\n",
       "      <td>39975000.0</td>\n",
       "      <td>46.285999</td>\n",
       "    </tr>\n",
       "  </tbody>\n",
       "</table>\n",
       "</div>"
      ],
      "text/plain": [
       "         Date       High        Low       Open      Close      Volume  \\\n",
       "0  2019-09-30  48.796001  47.222000  48.599998  48.174000  29399000.0   \n",
       "1  2019-10-01  49.189999  47.826000  48.299999  48.938000  30813000.0   \n",
       "2  2019-10-02  48.930000  47.886002  48.658001  48.625999  28157000.0   \n",
       "3  2019-10-03  46.896000  44.855999  46.372002  46.605999  75422500.0   \n",
       "4  2019-10-04  46.956001  45.613998  46.321999  46.285999  39975000.0   \n",
       "\n",
       "   Adj Close  \n",
       "0  48.174000  \n",
       "1  48.938000  \n",
       "2  48.625999  \n",
       "3  46.605999  \n",
       "4  46.285999  "
      ]
     },
     "execution_count": 3,
     "metadata": {},
     "output_type": "execute_result"
    }
   ],
   "source": [
    "df.head(5)"
   ]
  },
  {
   "cell_type": "code",
   "execution_count": 4,
   "metadata": {},
   "outputs": [
    {
     "name": "stdout",
     "output_type": "stream",
     "text": [
      "<class 'pandas.core.frame.DataFrame'>\n",
      "RangeIndex: 639 entries, 0 to 638\n",
      "Data columns (total 7 columns):\n",
      " #   Column     Non-Null Count  Dtype  \n",
      "---  ------     --------------  -----  \n",
      " 0   Date       639 non-null    object \n",
      " 1   High       639 non-null    float64\n",
      " 2   Low        639 non-null    float64\n",
      " 3   Open       639 non-null    float64\n",
      " 4   Close      639 non-null    float64\n",
      " 5   Volume     639 non-null    float64\n",
      " 6   Adj Close  639 non-null    float64\n",
      "dtypes: float64(6), object(1)\n",
      "memory usage: 35.1+ KB\n"
     ]
    }
   ],
   "source": [
    "df.info()"
   ]
  },
  {
   "cell_type": "code",
   "execution_count": 5,
   "metadata": {},
   "outputs": [],
   "source": [
    "df['Date'] = pd.to_datetime(df['Date'],errors='coerce')"
   ]
  },
  {
   "cell_type": "code",
   "execution_count": 6,
   "metadata": {},
   "outputs": [
    {
     "name": "stdout",
     "output_type": "stream",
     "text": [
      "<class 'pandas.core.frame.DataFrame'>\n",
      "RangeIndex: 639 entries, 0 to 638\n",
      "Data columns (total 7 columns):\n",
      " #   Column     Non-Null Count  Dtype         \n",
      "---  ------     --------------  -----         \n",
      " 0   Date       639 non-null    datetime64[ns]\n",
      " 1   High       639 non-null    float64       \n",
      " 2   Low        639 non-null    float64       \n",
      " 3   Open       639 non-null    float64       \n",
      " 4   Close      639 non-null    float64       \n",
      " 5   Volume     639 non-null    float64       \n",
      " 6   Adj Close  639 non-null    float64       \n",
      "dtypes: datetime64[ns](1), float64(6)\n",
      "memory usage: 35.1 KB\n"
     ]
    }
   ],
   "source": [
    "df.info()"
   ]
  },
  {
   "cell_type": "code",
   "execution_count": 7,
   "metadata": {},
   "outputs": [
    {
     "data": {
      "text/plain": [
       "2019"
      ]
     },
     "execution_count": 7,
     "metadata": {},
     "output_type": "execute_result"
    }
   ],
   "source": [
    "df[\"Date\"][0].year"
   ]
  },
  {
   "cell_type": "code",
   "execution_count": 8,
   "metadata": {},
   "outputs": [],
   "source": [
    "df[\"Year\"] = df[\"Date\"].dt.year"
   ]
  },
  {
   "cell_type": "code",
   "execution_count": 9,
   "metadata": {},
   "outputs": [],
   "source": [
    "df[\"Month\"] = df[\"Date\"].dt.month"
   ]
  },
  {
   "cell_type": "code",
   "execution_count": 10,
   "metadata": {},
   "outputs": [],
   "source": [
    "df[\"Day\"] = df[\"Date\"].dt.day"
   ]
  },
  {
   "cell_type": "code",
   "execution_count": 11,
   "metadata": {},
   "outputs": [
    {
     "data": {
      "text/html": [
       "<div>\n",
       "<style scoped>\n",
       "    .dataframe tbody tr th:only-of-type {\n",
       "        vertical-align: middle;\n",
       "    }\n",
       "\n",
       "    .dataframe tbody tr th {\n",
       "        vertical-align: top;\n",
       "    }\n",
       "\n",
       "    .dataframe thead th {\n",
       "        text-align: right;\n",
       "    }\n",
       "</style>\n",
       "<table border=\"1\" class=\"dataframe\">\n",
       "  <thead>\n",
       "    <tr style=\"text-align: right;\">\n",
       "      <th></th>\n",
       "      <th>Date</th>\n",
       "      <th>High</th>\n",
       "      <th>Low</th>\n",
       "      <th>Open</th>\n",
       "      <th>Close</th>\n",
       "      <th>Volume</th>\n",
       "      <th>Adj Close</th>\n",
       "      <th>Year</th>\n",
       "      <th>Month</th>\n",
       "      <th>Day</th>\n",
       "    </tr>\n",
       "  </thead>\n",
       "  <tbody>\n",
       "    <tr>\n",
       "      <th>506</th>\n",
       "      <td>2021-10-01</td>\n",
       "      <td>780.780029</td>\n",
       "      <td>763.590027</td>\n",
       "      <td>778.400024</td>\n",
       "      <td>775.219971</td>\n",
       "      <td>17031400.0</td>\n",
       "      <td>775.219971</td>\n",
       "      <td>2021</td>\n",
       "      <td>10</td>\n",
       "      <td>1</td>\n",
       "    </tr>\n",
       "    <tr>\n",
       "      <th>100</th>\n",
       "      <td>2020-02-24</td>\n",
       "      <td>172.699997</td>\n",
       "      <td>164.440002</td>\n",
       "      <td>167.800003</td>\n",
       "      <td>166.757996</td>\n",
       "      <td>75961000.0</td>\n",
       "      <td>166.757996</td>\n",
       "      <td>2020</td>\n",
       "      <td>2</td>\n",
       "      <td>24</td>\n",
       "    </tr>\n",
       "    <tr>\n",
       "      <th>242</th>\n",
       "      <td>2020-09-15</td>\n",
       "      <td>461.940002</td>\n",
       "      <td>430.700012</td>\n",
       "      <td>436.559998</td>\n",
       "      <td>449.760010</td>\n",
       "      <td>97298200.0</td>\n",
       "      <td>449.760010</td>\n",
       "      <td>2020</td>\n",
       "      <td>9</td>\n",
       "      <td>15</td>\n",
       "    </tr>\n",
       "    <tr>\n",
       "      <th>363</th>\n",
       "      <td>2021-03-10</td>\n",
       "      <td>717.849976</td>\n",
       "      <td>655.059998</td>\n",
       "      <td>700.299988</td>\n",
       "      <td>668.059998</td>\n",
       "      <td>60605700.0</td>\n",
       "      <td>668.059998</td>\n",
       "      <td>2021</td>\n",
       "      <td>3</td>\n",
       "      <td>10</td>\n",
       "    </tr>\n",
       "    <tr>\n",
       "      <th>17</th>\n",
       "      <td>2019-10-23</td>\n",
       "      <td>51.228001</td>\n",
       "      <td>50.270000</td>\n",
       "      <td>50.900002</td>\n",
       "      <td>50.936001</td>\n",
       "      <td>26305500.0</td>\n",
       "      <td>50.936001</td>\n",
       "      <td>2019</td>\n",
       "      <td>10</td>\n",
       "      <td>23</td>\n",
       "    </tr>\n",
       "  </tbody>\n",
       "</table>\n",
       "</div>"
      ],
      "text/plain": [
       "          Date        High         Low        Open       Close      Volume  \\\n",
       "506 2021-10-01  780.780029  763.590027  778.400024  775.219971  17031400.0   \n",
       "100 2020-02-24  172.699997  164.440002  167.800003  166.757996  75961000.0   \n",
       "242 2020-09-15  461.940002  430.700012  436.559998  449.760010  97298200.0   \n",
       "363 2021-03-10  717.849976  655.059998  700.299988  668.059998  60605700.0   \n",
       "17  2019-10-23   51.228001   50.270000   50.900002   50.936001  26305500.0   \n",
       "\n",
       "      Adj Close  Year  Month  Day  \n",
       "506  775.219971  2021     10    1  \n",
       "100  166.757996  2020      2   24  \n",
       "242  449.760010  2020      9   15  \n",
       "363  668.059998  2021      3   10  \n",
       "17    50.936001  2019     10   23  "
      ]
     },
     "execution_count": 11,
     "metadata": {},
     "output_type": "execute_result"
    }
   ],
   "source": [
    "df.sample(5)"
   ]
  },
  {
   "cell_type": "code",
   "execution_count": 12,
   "metadata": {},
   "outputs": [],
   "source": [
    "df.drop(columns=[\"Date\"],inplace=True)"
   ]
  },
  {
   "cell_type": "code",
   "execution_count": 13,
   "metadata": {},
   "outputs": [
    {
     "data": {
      "text/plain": [
       "High         0\n",
       "Low          0\n",
       "Open         0\n",
       "Close        0\n",
       "Volume       0\n",
       "Adj Close    0\n",
       "Year         0\n",
       "Month        0\n",
       "Day          0\n",
       "dtype: int64"
      ]
     },
     "execution_count": 13,
     "metadata": {},
     "output_type": "execute_result"
    }
   ],
   "source": [
    "df.isnull().sum()"
   ]
  },
  {
   "cell_type": "code",
   "execution_count": 14,
   "metadata": {},
   "outputs": [
    {
     "data": {
      "text/plain": [
       "0"
      ]
     },
     "execution_count": 14,
     "metadata": {},
     "output_type": "execute_result"
    }
   ],
   "source": [
    "df.duplicated().sum()"
   ]
  },
  {
   "cell_type": "code",
   "execution_count": 15,
   "metadata": {},
   "outputs": [
    {
     "data": {
      "text/html": [
       "<div>\n",
       "<style scoped>\n",
       "    .dataframe tbody tr th:only-of-type {\n",
       "        vertical-align: middle;\n",
       "    }\n",
       "\n",
       "    .dataframe tbody tr th {\n",
       "        vertical-align: top;\n",
       "    }\n",
       "\n",
       "    .dataframe thead th {\n",
       "        text-align: right;\n",
       "    }\n",
       "</style>\n",
       "<table border=\"1\" class=\"dataframe\">\n",
       "  <thead>\n",
       "    <tr style=\"text-align: right;\">\n",
       "      <th></th>\n",
       "      <th>High</th>\n",
       "      <th>Low</th>\n",
       "      <th>Open</th>\n",
       "      <th>Close</th>\n",
       "      <th>Volume</th>\n",
       "      <th>Adj Close</th>\n",
       "      <th>Year</th>\n",
       "      <th>Month</th>\n",
       "      <th>Day</th>\n",
       "    </tr>\n",
       "  </thead>\n",
       "  <tbody>\n",
       "    <tr>\n",
       "      <th>559</th>\n",
       "      <td>994.979980</td>\n",
       "      <td>921.849976</td>\n",
       "      <td>994.500000</td>\n",
       "      <td>926.919983</td>\n",
       "      <td>27590500.0</td>\n",
       "      <td>926.919983</td>\n",
       "      <td>2021</td>\n",
       "      <td>12</td>\n",
       "      <td>16</td>\n",
       "    </tr>\n",
       "    <tr>\n",
       "      <th>103</th>\n",
       "      <td>147.953995</td>\n",
       "      <td>133.800003</td>\n",
       "      <td>146.000000</td>\n",
       "      <td>135.800003</td>\n",
       "      <td>121386000.0</td>\n",
       "      <td>135.800003</td>\n",
       "      <td>2020</td>\n",
       "      <td>2</td>\n",
       "      <td>27</td>\n",
       "    </tr>\n",
       "    <tr>\n",
       "      <th>74</th>\n",
       "      <td>107.568001</td>\n",
       "      <td>103.358002</td>\n",
       "      <td>105.952003</td>\n",
       "      <td>103.699997</td>\n",
       "      <td>86844000.0</td>\n",
       "      <td>103.699997</td>\n",
       "      <td>2020</td>\n",
       "      <td>1</td>\n",
       "      <td>15</td>\n",
       "    </tr>\n",
       "    <tr>\n",
       "      <th>288</th>\n",
       "      <td>496.000000</td>\n",
       "      <td>443.500000</td>\n",
       "      <td>448.350006</td>\n",
       "      <td>486.640015</td>\n",
       "      <td>78044000.0</td>\n",
       "      <td>486.640015</td>\n",
       "      <td>2020</td>\n",
       "      <td>11</td>\n",
       "      <td>18</td>\n",
       "    </tr>\n",
       "    <tr>\n",
       "      <th>178</th>\n",
       "      <td>199.768005</td>\n",
       "      <td>181.699997</td>\n",
       "      <td>183.557999</td>\n",
       "      <td>198.179993</td>\n",
       "      <td>78486000.0</td>\n",
       "      <td>198.179993</td>\n",
       "      <td>2020</td>\n",
       "      <td>6</td>\n",
       "      <td>15</td>\n",
       "    </tr>\n",
       "  </tbody>\n",
       "</table>\n",
       "</div>"
      ],
      "text/plain": [
       "           High         Low        Open       Close       Volume   Adj Close  \\\n",
       "559  994.979980  921.849976  994.500000  926.919983   27590500.0  926.919983   \n",
       "103  147.953995  133.800003  146.000000  135.800003  121386000.0  135.800003   \n",
       "74   107.568001  103.358002  105.952003  103.699997   86844000.0  103.699997   \n",
       "288  496.000000  443.500000  448.350006  486.640015   78044000.0  486.640015   \n",
       "178  199.768005  181.699997  183.557999  198.179993   78486000.0  198.179993   \n",
       "\n",
       "     Year  Month  Day  \n",
       "559  2021     12   16  \n",
       "103  2020      2   27  \n",
       "74   2020      1   15  \n",
       "288  2020     11   18  \n",
       "178  2020      6   15  "
      ]
     },
     "execution_count": 15,
     "metadata": {},
     "output_type": "execute_result"
    }
   ],
   "source": [
    "df.sample(5)"
   ]
  },
  {
   "cell_type": "code",
   "execution_count": 16,
   "metadata": {},
   "outputs": [],
   "source": [
    "x,y = df.drop(columns=[\"Volume\"]),df[\"Volume\"]"
   ]
  },
  {
   "cell_type": "code",
   "execution_count": 17,
   "metadata": {},
   "outputs": [
    {
     "data": {
      "text/html": [
       "<div>\n",
       "<style scoped>\n",
       "    .dataframe tbody tr th:only-of-type {\n",
       "        vertical-align: middle;\n",
       "    }\n",
       "\n",
       "    .dataframe tbody tr th {\n",
       "        vertical-align: top;\n",
       "    }\n",
       "\n",
       "    .dataframe thead th {\n",
       "        text-align: right;\n",
       "    }\n",
       "</style>\n",
       "<table border=\"1\" class=\"dataframe\">\n",
       "  <thead>\n",
       "    <tr style=\"text-align: right;\">\n",
       "      <th></th>\n",
       "      <th>High</th>\n",
       "      <th>Low</th>\n",
       "      <th>Open</th>\n",
       "      <th>Close</th>\n",
       "      <th>Adj Close</th>\n",
       "      <th>Year</th>\n",
       "      <th>Month</th>\n",
       "      <th>Day</th>\n",
       "    </tr>\n",
       "  </thead>\n",
       "  <tbody>\n",
       "    <tr>\n",
       "      <th>0</th>\n",
       "      <td>48.796001</td>\n",
       "      <td>47.222000</td>\n",
       "      <td>48.599998</td>\n",
       "      <td>48.174000</td>\n",
       "      <td>48.174000</td>\n",
       "      <td>2019</td>\n",
       "      <td>9</td>\n",
       "      <td>30</td>\n",
       "    </tr>\n",
       "    <tr>\n",
       "      <th>1</th>\n",
       "      <td>49.189999</td>\n",
       "      <td>47.826000</td>\n",
       "      <td>48.299999</td>\n",
       "      <td>48.938000</td>\n",
       "      <td>48.938000</td>\n",
       "      <td>2019</td>\n",
       "      <td>10</td>\n",
       "      <td>1</td>\n",
       "    </tr>\n",
       "    <tr>\n",
       "      <th>2</th>\n",
       "      <td>48.930000</td>\n",
       "      <td>47.886002</td>\n",
       "      <td>48.658001</td>\n",
       "      <td>48.625999</td>\n",
       "      <td>48.625999</td>\n",
       "      <td>2019</td>\n",
       "      <td>10</td>\n",
       "      <td>2</td>\n",
       "    </tr>\n",
       "    <tr>\n",
       "      <th>3</th>\n",
       "      <td>46.896000</td>\n",
       "      <td>44.855999</td>\n",
       "      <td>46.372002</td>\n",
       "      <td>46.605999</td>\n",
       "      <td>46.605999</td>\n",
       "      <td>2019</td>\n",
       "      <td>10</td>\n",
       "      <td>3</td>\n",
       "    </tr>\n",
       "    <tr>\n",
       "      <th>4</th>\n",
       "      <td>46.956001</td>\n",
       "      <td>45.613998</td>\n",
       "      <td>46.321999</td>\n",
       "      <td>46.285999</td>\n",
       "      <td>46.285999</td>\n",
       "      <td>2019</td>\n",
       "      <td>10</td>\n",
       "      <td>4</td>\n",
       "    </tr>\n",
       "    <tr>\n",
       "      <th>...</th>\n",
       "      <td>...</td>\n",
       "      <td>...</td>\n",
       "      <td>...</td>\n",
       "      <td>...</td>\n",
       "      <td>...</td>\n",
       "      <td>...</td>\n",
       "      <td>...</td>\n",
       "      <td>...</td>\n",
       "    </tr>\n",
       "    <tr>\n",
       "      <th>634</th>\n",
       "      <td>1152.869995</td>\n",
       "      <td>1087.300049</td>\n",
       "      <td>1136.300049</td>\n",
       "      <td>1091.260010</td>\n",
       "      <td>1091.260010</td>\n",
       "      <td>2022</td>\n",
       "      <td>4</td>\n",
       "      <td>5</td>\n",
       "    </tr>\n",
       "    <tr>\n",
       "      <th>635</th>\n",
       "      <td>1079.000000</td>\n",
       "      <td>1027.699951</td>\n",
       "      <td>1073.469971</td>\n",
       "      <td>1045.760010</td>\n",
       "      <td>1045.760010</td>\n",
       "      <td>2022</td>\n",
       "      <td>4</td>\n",
       "      <td>6</td>\n",
       "    </tr>\n",
       "    <tr>\n",
       "      <th>636</th>\n",
       "      <td>1076.589966</td>\n",
       "      <td>1021.539978</td>\n",
       "      <td>1052.390015</td>\n",
       "      <td>1057.260010</td>\n",
       "      <td>1057.260010</td>\n",
       "      <td>2022</td>\n",
       "      <td>4</td>\n",
       "      <td>7</td>\n",
       "    </tr>\n",
       "    <tr>\n",
       "      <th>637</th>\n",
       "      <td>1048.439941</td>\n",
       "      <td>1022.440002</td>\n",
       "      <td>1043.209961</td>\n",
       "      <td>1025.489990</td>\n",
       "      <td>1025.489990</td>\n",
       "      <td>2022</td>\n",
       "      <td>4</td>\n",
       "      <td>8</td>\n",
       "    </tr>\n",
       "    <tr>\n",
       "      <th>638</th>\n",
       "      <td>1008.469971</td>\n",
       "      <td>974.640015</td>\n",
       "      <td>980.400024</td>\n",
       "      <td>975.929993</td>\n",
       "      <td>975.929993</td>\n",
       "      <td>2022</td>\n",
       "      <td>4</td>\n",
       "      <td>11</td>\n",
       "    </tr>\n",
       "  </tbody>\n",
       "</table>\n",
       "<p>639 rows × 8 columns</p>\n",
       "</div>"
      ],
      "text/plain": [
       "            High          Low         Open        Close    Adj Close  Year  \\\n",
       "0      48.796001    47.222000    48.599998    48.174000    48.174000  2019   \n",
       "1      49.189999    47.826000    48.299999    48.938000    48.938000  2019   \n",
       "2      48.930000    47.886002    48.658001    48.625999    48.625999  2019   \n",
       "3      46.896000    44.855999    46.372002    46.605999    46.605999  2019   \n",
       "4      46.956001    45.613998    46.321999    46.285999    46.285999  2019   \n",
       "..           ...          ...          ...          ...          ...   ...   \n",
       "634  1152.869995  1087.300049  1136.300049  1091.260010  1091.260010  2022   \n",
       "635  1079.000000  1027.699951  1073.469971  1045.760010  1045.760010  2022   \n",
       "636  1076.589966  1021.539978  1052.390015  1057.260010  1057.260010  2022   \n",
       "637  1048.439941  1022.440002  1043.209961  1025.489990  1025.489990  2022   \n",
       "638  1008.469971   974.640015   980.400024   975.929993   975.929993  2022   \n",
       "\n",
       "     Month  Day  \n",
       "0        9   30  \n",
       "1       10    1  \n",
       "2       10    2  \n",
       "3       10    3  \n",
       "4       10    4  \n",
       "..     ...  ...  \n",
       "634      4    5  \n",
       "635      4    6  \n",
       "636      4    7  \n",
       "637      4    8  \n",
       "638      4   11  \n",
       "\n",
       "[639 rows x 8 columns]"
      ]
     },
     "execution_count": 17,
     "metadata": {},
     "output_type": "execute_result"
    }
   ],
   "source": [
    "x"
   ]
  },
  {
   "cell_type": "code",
   "execution_count": 18,
   "metadata": {},
   "outputs": [
    {
     "data": {
      "text/plain": [
       "(639, 9)"
      ]
     },
     "execution_count": 18,
     "metadata": {},
     "output_type": "execute_result"
    }
   ],
   "source": [
    "df.shape"
   ]
  },
  {
   "cell_type": "code",
   "execution_count": 19,
   "metadata": {},
   "outputs": [
    {
     "name": "stdout",
     "output_type": "stream",
     "text": [
      "<class 'pandas.core.frame.DataFrame'>\n",
      "RangeIndex: 639 entries, 0 to 638\n",
      "Data columns (total 9 columns):\n",
      " #   Column     Non-Null Count  Dtype  \n",
      "---  ------     --------------  -----  \n",
      " 0   High       639 non-null    float64\n",
      " 1   Low        639 non-null    float64\n",
      " 2   Open       639 non-null    float64\n",
      " 3   Close      639 non-null    float64\n",
      " 4   Volume     639 non-null    float64\n",
      " 5   Adj Close  639 non-null    float64\n",
      " 6   Year       639 non-null    int32  \n",
      " 7   Month      639 non-null    int32  \n",
      " 8   Day        639 non-null    int32  \n",
      "dtypes: float64(6), int32(3)\n",
      "memory usage: 37.6 KB\n"
     ]
    }
   ],
   "source": [
    "df.info()"
   ]
  },
  {
   "cell_type": "code",
   "execution_count": 20,
   "metadata": {},
   "outputs": [],
   "source": [
    "from sklearn.preprocessing import StandardScaler\n",
    "from sklearn.model_selection import train_test_split\n",
    "x_train,x_test,y_train,y_test = train_test_split(x,y,test_size=0.2,random_state=24)\n",
    "\n",
    "st = StandardScaler()\n",
    "x_train_trf = st.fit_transform(x_train.values)\n",
    "x_test_trf = st.fit_transform(x_test.values)\n"
   ]
  },
  {
   "cell_type": "code",
   "execution_count": 21,
   "metadata": {},
   "outputs": [
    {
     "data": {
      "text/plain": [
       "(511, 8)"
      ]
     },
     "execution_count": 21,
     "metadata": {},
     "output_type": "execute_result"
    }
   ],
   "source": [
    "x_train_trf.shape"
   ]
  },
  {
   "cell_type": "code",
   "execution_count": 22,
   "metadata": {},
   "outputs": [],
   "source": [
    "import tensorflow as tf\n",
    "from tensorflow.keras.layers import Dense,LSTM,Bidirectional,GRU,Input,BatchNormalization,Dropout\n",
    "from tensorflow.keras.models import Sequential\n",
    "from tensorflow.keras.losses import huber\n",
    "from tensorflow.keras.optimizers import Adam "
   ]
  },
  {
   "cell_type": "code",
   "execution_count": 23,
   "metadata": {},
   "outputs": [],
   "source": [
    "model = Sequential()\n",
    "model.add(Input(shape=(8,1)))\n",
    "model.add(LSTM(250,return_sequences=True))\n",
    "model.add(LSTM(250,return_sequences=True))\n",
    "model.add(LSTM(200,return_sequences=True))\n",
    "model.add(LSTM(150))\n",
    "model.add(Dense(400,activation=\"relu\",kernel_regularizer=tf.keras.regularizers.l2(0.01)))\n",
    "model.add(BatchNormalization())\n",
    "model.add(Dense(200,activation=\"relu\"))\n",
    "model.add(Dropout(0.2))\n",
    "model.add(Dense(150,activation='relu'))\n",
    "model.add(Dropout(0.2))\n",
    "model.add(Dense(150,activation='relu'))\n",
    "model.add(Dropout(0.2))\n",
    "model.add(Dense(1,activation=\"linear\"))"
   ]
  },
  {
   "cell_type": "code",
   "execution_count": 24,
   "metadata": {},
   "outputs": [],
   "source": [
    "model.compile(optimizer=Adam(0.01),loss ='huber',metrics=['r2_score'])"
   ]
  },
  {
   "cell_type": "code",
   "execution_count": 25,
   "metadata": {},
   "outputs": [
    {
     "name": "stdout",
     "output_type": "stream",
     "text": [
      "Epoch 1/50\n",
      "\u001b[1m16/16\u001b[0m \u001b[32m━━━━━━━━━━━━━━━━━━━━\u001b[0m\u001b[37m\u001b[0m \u001b[1m12s\u001b[0m 130ms/step - loss: 46690500.0000 - r2_score: -2.0250 - val_loss: 47150256.0000 - val_r2_score: -1.8380\n",
      "Epoch 2/50\n",
      "\u001b[1m16/16\u001b[0m \u001b[32m━━━━━━━━━━━━━━━━━━━━\u001b[0m\u001b[37m\u001b[0m \u001b[1m1s\u001b[0m 61ms/step - loss: 46687636.0000 - r2_score: -1.9784 - val_loss: 32669142.0000 - val_r2_score: -0.9812\n",
      "Epoch 3/50\n",
      "\u001b[1m16/16\u001b[0m \u001b[32m━━━━━━━━━━━━━━━━━━━━\u001b[0m\u001b[37m\u001b[0m \u001b[1m1s\u001b[0m 72ms/step - loss: 37874800.0000 - r2_score: -1.0267 - val_loss: 46254236.0000 - val_r2_score: -1.1740\n",
      "Epoch 4/50\n",
      "\u001b[1m16/16\u001b[0m \u001b[32m━━━━━━━━━━━━━━━━━━━━\u001b[0m\u001b[37m\u001b[0m \u001b[1m1s\u001b[0m 70ms/step - loss: 23202728.0000 - r2_score: 0.0943 - val_loss: 29934500.0000 - val_r2_score: -0.4872\n",
      "Epoch 5/50\n",
      "\u001b[1m16/16\u001b[0m \u001b[32m━━━━━━━━━━━━━━━━━━━━\u001b[0m\u001b[37m\u001b[0m \u001b[1m1s\u001b[0m 72ms/step - loss: 19268328.0000 - r2_score: 0.3421 - val_loss: 27482532.0000 - val_r2_score: -0.0804\n",
      "Epoch 6/50\n",
      "\u001b[1m16/16\u001b[0m \u001b[32m━━━━━━━━━━━━━━━━━━━━\u001b[0m\u001b[37m\u001b[0m \u001b[1m1s\u001b[0m 65ms/step - loss: 20248790.0000 - r2_score: 0.2259 - val_loss: 18027260.0000 - val_r2_score: 0.3555\n",
      "Epoch 7/50\n",
      "\u001b[1m16/16\u001b[0m \u001b[32m━━━━━━━━━━━━━━━━━━━━\u001b[0m\u001b[37m\u001b[0m \u001b[1m1s\u001b[0m 73ms/step - loss: 21855138.0000 - r2_score: 0.1385 - val_loss: 32338310.0000 - val_r2_score: -0.3472\n",
      "Epoch 8/50\n",
      "\u001b[1m16/16\u001b[0m \u001b[32m━━━━━━━━━━━━━━━━━━━━\u001b[0m\u001b[37m\u001b[0m \u001b[1m1s\u001b[0m 70ms/step - loss: 28847524.0000 - r2_score: -0.3018 - val_loss: 59856516.0000 - val_r2_score: -2.3737\n",
      "Epoch 9/50\n",
      "\u001b[1m16/16\u001b[0m \u001b[32m━━━━━━━━━━━━━━━━━━━━\u001b[0m\u001b[37m\u001b[0m \u001b[1m1s\u001b[0m 68ms/step - loss: 23667246.0000 - r2_score: 0.1265 - val_loss: 22538950.0000 - val_r2_score: 0.0426\n",
      "Epoch 10/50\n",
      "\u001b[1m16/16\u001b[0m \u001b[32m━━━━━━━━━━━━━━━━━━━━\u001b[0m\u001b[37m\u001b[0m \u001b[1m1s\u001b[0m 69ms/step - loss: 21360858.0000 - r2_score: 0.1988 - val_loss: 22918276.0000 - val_r2_score: 0.0338\n",
      "Epoch 11/50\n",
      "\u001b[1m16/16\u001b[0m \u001b[32m━━━━━━━━━━━━━━━━━━━━\u001b[0m\u001b[37m\u001b[0m \u001b[1m1s\u001b[0m 54ms/step - loss: 22329126.0000 - r2_score: 0.0321 - val_loss: 24516828.0000 - val_r2_score: 0.1158\n",
      "Epoch 12/50\n",
      "\u001b[1m16/16\u001b[0m \u001b[32m━━━━━━━━━━━━━━━━━━━━\u001b[0m\u001b[37m\u001b[0m \u001b[1m1s\u001b[0m 68ms/step - loss: 21848428.0000 - r2_score: 0.2286 - val_loss: 20755530.0000 - val_r2_score: 0.0595\n",
      "Epoch 13/50\n",
      "\u001b[1m16/16\u001b[0m \u001b[32m━━━━━━━━━━━━━━━━━━━━\u001b[0m\u001b[37m\u001b[0m \u001b[1m1s\u001b[0m 72ms/step - loss: 21895880.0000 - r2_score: 0.2025 - val_loss: 20762184.0000 - val_r2_score: 0.0019\n",
      "Epoch 14/50\n",
      "\u001b[1m16/16\u001b[0m \u001b[32m━━━━━━━━━━━━━━━━━━━━\u001b[0m\u001b[37m\u001b[0m \u001b[1m1s\u001b[0m 60ms/step - loss: 19052604.0000 - r2_score: 0.3181 - val_loss: 26088288.0000 - val_r2_score: -0.4222\n",
      "Epoch 15/50\n",
      "\u001b[1m16/16\u001b[0m \u001b[32m━━━━━━━━━━━━━━━━━━━━\u001b[0m\u001b[37m\u001b[0m \u001b[1m1s\u001b[0m 72ms/step - loss: 20239668.0000 - r2_score: 0.2124 - val_loss: 26895650.0000 - val_r2_score: -0.4844\n",
      "Epoch 16/50\n",
      "\u001b[1m16/16\u001b[0m \u001b[32m━━━━━━━━━━━━━━━━━━━━\u001b[0m\u001b[37m\u001b[0m \u001b[1m1s\u001b[0m 74ms/step - loss: 18821270.0000 - r2_score: 0.2724 - val_loss: 27552024.0000 - val_r2_score: -0.5389\n",
      "Epoch 17/50\n",
      "\u001b[1m16/16\u001b[0m \u001b[32m━━━━━━━━━━━━━━━━━━━━\u001b[0m\u001b[37m\u001b[0m \u001b[1m1s\u001b[0m 67ms/step - loss: 19288544.0000 - r2_score: 0.3342 - val_loss: 23201994.0000 - val_r2_score: -0.2207\n",
      "Epoch 18/50\n",
      "\u001b[1m16/16\u001b[0m \u001b[32m━━━━━━━━━━━━━━━━━━━━\u001b[0m\u001b[37m\u001b[0m \u001b[1m1s\u001b[0m 52ms/step - loss: 17969872.0000 - r2_score: 0.2685 - val_loss: 22136812.0000 - val_r2_score: -0.1323\n",
      "Epoch 19/50\n",
      "\u001b[1m16/16\u001b[0m \u001b[32m━━━━━━━━━━━━━━━━━━━━\u001b[0m\u001b[37m\u001b[0m \u001b[1m1s\u001b[0m 66ms/step - loss: 21535224.0000 - r2_score: 0.1378 - val_loss: 20792810.0000 - val_r2_score: 0.0672\n",
      "Epoch 20/50\n",
      "\u001b[1m16/16\u001b[0m \u001b[32m━━━━━━━━━━━━━━━━━━━━\u001b[0m\u001b[37m\u001b[0m \u001b[1m1s\u001b[0m 69ms/step - loss: 20263942.0000 - r2_score: 0.2142 - val_loss: 21813494.0000 - val_r2_score: -0.0919\n",
      "Epoch 21/50\n",
      "\u001b[1m16/16\u001b[0m \u001b[32m━━━━━━━━━━━━━━━━━━━━\u001b[0m\u001b[37m\u001b[0m \u001b[1m1s\u001b[0m 68ms/step - loss: 18083870.0000 - r2_score: 0.2807 - val_loss: 21075342.0000 - val_r2_score: -0.0061\n",
      "Epoch 22/50\n",
      "\u001b[1m16/16\u001b[0m \u001b[32m━━━━━━━━━━━━━━━━━━━━\u001b[0m\u001b[37m\u001b[0m \u001b[1m1s\u001b[0m 64ms/step - loss: 21678512.0000 - r2_score: 0.2590 - val_loss: 21318256.0000 - val_r2_score: -0.0530\n",
      "Epoch 23/50\n",
      "\u001b[1m16/16\u001b[0m \u001b[32m━━━━━━━━━━━━━━━━━━━━\u001b[0m\u001b[37m\u001b[0m \u001b[1m1s\u001b[0m 62ms/step - loss: 20105180.0000 - r2_score: 0.2249 - val_loss: 21124226.0000 - val_r2_score: -0.0212\n",
      "Epoch 24/50\n",
      "\u001b[1m16/16\u001b[0m \u001b[32m━━━━━━━━━━━━━━━━━━━━\u001b[0m\u001b[37m\u001b[0m \u001b[1m1s\u001b[0m 66ms/step - loss: 18846382.0000 - r2_score: 0.3034 - val_loss: 22729838.0000 - val_r2_score: -0.1986\n",
      "Epoch 25/50\n",
      "\u001b[1m16/16\u001b[0m \u001b[32m━━━━━━━━━━━━━━━━━━━━\u001b[0m\u001b[37m\u001b[0m \u001b[1m1s\u001b[0m 72ms/step - loss: 18345162.0000 - r2_score: 0.3295 - val_loss: 21848946.0000 - val_r2_score: -0.1164\n",
      "Epoch 26/50\n",
      "\u001b[1m16/16\u001b[0m \u001b[32m━━━━━━━━━━━━━━━━━━━━\u001b[0m\u001b[37m\u001b[0m \u001b[1m1s\u001b[0m 64ms/step - loss: 20854736.0000 - r2_score: 0.2375 - val_loss: 21426744.0000 - val_r2_score: 0.0133\n",
      "Epoch 27/50\n",
      "\u001b[1m16/16\u001b[0m \u001b[32m━━━━━━━━━━━━━━━━━━━━\u001b[0m\u001b[37m\u001b[0m \u001b[1m1s\u001b[0m 70ms/step - loss: 19080322.0000 - r2_score: 0.2647 - val_loss: 21693530.0000 - val_r2_score: -0.0131\n",
      "Epoch 28/50\n",
      "\u001b[1m16/16\u001b[0m \u001b[32m━━━━━━━━━━━━━━━━━━━━\u001b[0m\u001b[37m\u001b[0m \u001b[1m1s\u001b[0m 68ms/step - loss: 18222900.0000 - r2_score: 0.2910 - val_loss: 20932844.0000 - val_r2_score: 0.0273\n",
      "Epoch 29/50\n",
      "\u001b[1m16/16\u001b[0m \u001b[32m━━━━━━━━━━━━━━━━━━━━\u001b[0m\u001b[37m\u001b[0m \u001b[1m1s\u001b[0m 70ms/step - loss: 19737190.0000 - r2_score: 0.2367 - val_loss: 37550736.0000 - val_r2_score: -1.3512\n",
      "Epoch 30/50\n",
      "\u001b[1m16/16\u001b[0m \u001b[32m━━━━━━━━━━━━━━━━━━━━\u001b[0m\u001b[37m\u001b[0m \u001b[1m1s\u001b[0m 69ms/step - loss: 18401900.0000 - r2_score: 0.3243 - val_loss: 36673112.0000 - val_r2_score: -1.3100\n",
      "Epoch 31/50\n",
      "\u001b[1m16/16\u001b[0m \u001b[32m━━━━━━━━━━━━━━━━━━━━\u001b[0m\u001b[37m\u001b[0m \u001b[1m1s\u001b[0m 71ms/step - loss: 19423398.0000 - r2_score: 0.2654 - val_loss: 36491204.0000 - val_r2_score: -1.2708\n",
      "Epoch 32/50\n",
      "\u001b[1m16/16\u001b[0m \u001b[32m━━━━━━━━━━━━━━━━━━━━\u001b[0m\u001b[37m\u001b[0m \u001b[1m1s\u001b[0m 70ms/step - loss: 19624862.0000 - r2_score: 0.2184 - val_loss: 36269088.0000 - val_r2_score: -1.2677\n",
      "Epoch 33/50\n",
      "\u001b[1m16/16\u001b[0m \u001b[32m━━━━━━━━━━━━━━━━━━━━\u001b[0m\u001b[37m\u001b[0m \u001b[1m1s\u001b[0m 66ms/step - loss: 19562762.0000 - r2_score: 0.3062 - val_loss: 35799384.0000 - val_r2_score: -1.1662\n",
      "Epoch 34/50\n",
      "\u001b[1m16/16\u001b[0m \u001b[32m━━━━━━━━━━━━━━━━━━━━\u001b[0m\u001b[37m\u001b[0m \u001b[1m1s\u001b[0m 68ms/step - loss: 18592860.0000 - r2_score: 0.3043 - val_loss: 35303924.0000 - val_r2_score: -1.1126\n",
      "Epoch 35/50\n",
      "\u001b[1m16/16\u001b[0m \u001b[32m━━━━━━━━━━━━━━━━━━━━\u001b[0m\u001b[37m\u001b[0m \u001b[1m1s\u001b[0m 67ms/step - loss: 19057346.0000 - r2_score: 0.2029 - val_loss: 33170028.0000 - val_r2_score: -0.8690\n",
      "Epoch 36/50\n",
      "\u001b[1m16/16\u001b[0m \u001b[32m━━━━━━━━━━━━━━━━━━━━\u001b[0m\u001b[37m\u001b[0m \u001b[1m1s\u001b[0m 66ms/step - loss: 18665096.0000 - r2_score: 0.2756 - val_loss: 33542228.0000 - val_r2_score: -1.0037\n",
      "Epoch 37/50\n",
      "\u001b[1m16/16\u001b[0m \u001b[32m━━━━━━━━━━━━━━━━━━━━\u001b[0m\u001b[37m\u001b[0m \u001b[1m1s\u001b[0m 65ms/step - loss: 19554362.0000 - r2_score: 0.2839 - val_loss: 28989428.0000 - val_r2_score: -0.5634\n",
      "Epoch 38/50\n",
      "\u001b[1m16/16\u001b[0m \u001b[32m━━━━━━━━━━━━━━━━━━━━\u001b[0m\u001b[37m\u001b[0m \u001b[1m1s\u001b[0m 62ms/step - loss: 19940408.0000 - r2_score: 0.2269 - val_loss: 29965490.0000 - val_r2_score: -0.6472\n",
      "Epoch 39/50\n",
      "\u001b[1m16/16\u001b[0m \u001b[32m━━━━━━━━━━━━━━━━━━━━\u001b[0m\u001b[37m\u001b[0m \u001b[1m1s\u001b[0m 70ms/step - loss: 18322322.0000 - r2_score: 0.3540 - val_loss: 39029912.0000 - val_r2_score: -1.3886\n",
      "Epoch 40/50\n",
      "\u001b[1m16/16\u001b[0m \u001b[32m━━━━━━━━━━━━━━━━━━━━\u001b[0m\u001b[37m\u001b[0m \u001b[1m1s\u001b[0m 70ms/step - loss: 20907522.0000 - r2_score: 0.2079 - val_loss: 38359456.0000 - val_r2_score: -1.3508\n",
      "Epoch 41/50\n",
      "\u001b[1m16/16\u001b[0m \u001b[32m━━━━━━━━━━━━━━━━━━━━\u001b[0m\u001b[37m\u001b[0m \u001b[1m1s\u001b[0m 70ms/step - loss: 19765958.0000 - r2_score: 0.2698 - val_loss: 33154230.0000 - val_r2_score: -0.8236\n",
      "Epoch 42/50\n",
      "\u001b[1m16/16\u001b[0m \u001b[32m━━━━━━━━━━━━━━━━━━━━\u001b[0m\u001b[37m\u001b[0m \u001b[1m1s\u001b[0m 61ms/step - loss: 19228846.0000 - r2_score: 0.2865 - val_loss: 31583056.0000 - val_r2_score: -0.7298\n",
      "Epoch 43/50\n",
      "\u001b[1m16/16\u001b[0m \u001b[32m━━━━━━━━━━━━━━━━━━━━\u001b[0m\u001b[37m\u001b[0m \u001b[1m1s\u001b[0m 64ms/step - loss: 18605764.0000 - r2_score: 0.2985 - val_loss: 31462210.0000 - val_r2_score: -0.6947\n",
      "Epoch 44/50\n",
      "\u001b[1m16/16\u001b[0m \u001b[32m━━━━━━━━━━━━━━━━━━━━\u001b[0m\u001b[37m\u001b[0m \u001b[1m1s\u001b[0m 63ms/step - loss: 18749584.0000 - r2_score: 0.2882 - val_loss: 31550678.0000 - val_r2_score: -0.8174\n",
      "Epoch 45/50\n",
      "\u001b[1m16/16\u001b[0m \u001b[32m━━━━━━━━━━━━━━━━━━━━\u001b[0m\u001b[37m\u001b[0m \u001b[1m1s\u001b[0m 54ms/step - loss: 19376224.0000 - r2_score: 0.2924 - val_loss: 23229696.0000 - val_r2_score: -0.0904\n",
      "Epoch 46/50\n",
      "\u001b[1m16/16\u001b[0m \u001b[32m━━━━━━━━━━━━━━━━━━━━\u001b[0m\u001b[37m\u001b[0m \u001b[1m1s\u001b[0m 55ms/step - loss: 17362514.0000 - r2_score: 0.1692 - val_loss: 23021454.0000 - val_r2_score: -0.1297\n",
      "Epoch 47/50\n",
      "\u001b[1m16/16\u001b[0m \u001b[32m━━━━━━━━━━━━━━━━━━━━\u001b[0m\u001b[37m\u001b[0m \u001b[1m1s\u001b[0m 49ms/step - loss: 18191818.0000 - r2_score: 0.2925 - val_loss: 30387336.0000 - val_r2_score: -0.7899\n",
      "Epoch 48/50\n",
      "\u001b[1m16/16\u001b[0m \u001b[32m━━━━━━━━━━━━━━━━━━━━\u001b[0m\u001b[37m\u001b[0m \u001b[1m1s\u001b[0m 45ms/step - loss: 18994220.0000 - r2_score: 0.3094 - val_loss: 30801426.0000 - val_r2_score: -0.8095\n",
      "Epoch 49/50\n",
      "\u001b[1m16/16\u001b[0m \u001b[32m━━━━━━━━━━━━━━━━━━━━\u001b[0m\u001b[37m\u001b[0m \u001b[1m1s\u001b[0m 47ms/step - loss: 17080286.0000 - r2_score: 0.3837 - val_loss: 30184680.0000 - val_r2_score: -0.7873\n",
      "Epoch 50/50\n",
      "\u001b[1m16/16\u001b[0m \u001b[32m━━━━━━━━━━━━━━━━━━━━\u001b[0m\u001b[37m\u001b[0m \u001b[1m1s\u001b[0m 45ms/step - loss: 18322742.0000 - r2_score: 0.2920 - val_loss: 17938256.0000 - val_r2_score: 0.3300\n"
     ]
    }
   ],
   "source": [
    "history = model.fit(x_train_trf,y_train,validation_data=(x_test_trf,y_test),epochs=50)"
   ]
  },
  {
   "cell_type": "code",
   "execution_count": 27,
   "metadata": {},
   "outputs": [
    {
     "data": {
      "text/plain": [
       "<Axes: >"
      ]
     },
     "execution_count": 27,
     "metadata": {},
     "output_type": "execute_result"
    },
    {
     "data": {
      "image/png": "[encoded data removed]",
      "text/plain": [
       "<Figure size 640x480 with 1 Axes>"
      ]
     },
     "metadata": {},
     "output_type": "display_data"
    }
   ],
   "source": [
    "import seaborn as sns\n",
    "sns.lineplot(history.history['r2_score'],label='loss')\n",
    "sns.lineplot(history.history['val_r2_score'],label='val_loss')"
   ]
  },
  {
   "cell_type": "code",
   "execution_count": 31,
   "metadata": {},
   "outputs": [
    {
     "name": "stdout",
     "output_type": "stream",
     "text": [
      "\u001b[1m4/4\u001b[0m \u001b[32m━━━━━━━━━━━━━━━━━━━━\u001b[0m\u001b[37m\u001b[0m \u001b[1m0s\u001b[0m 20ms/step\n"
     ]
    },
    {
     "data": {
      "text/plain": [
       "array([21519226.], dtype=float32)"
      ]
     },
     "execution_count": 31,
     "metadata": {},
     "output_type": "execute_result"
    }
   ],
   "source": [
    "model.predict(x_test)[4]"
   ]
  },
  {
   "cell_type": "code",
   "execution_count": 30,
   "metadata": {},
   "outputs": [
    {
     "data": {
      "text/plain": [
       "9       42377000.0\n",
       "536     25573100.0\n",
       "97     127115000.0\n",
       "177     83817000.0\n",
       "526     29918400.0\n",
       "          ...     \n",
       "508     18432600.0\n",
       "164     40448500.0\n",
       "376     28637000.0\n",
       "505     17956000.0\n",
       "100     75961000.0\n",
       "Name: Volume, Length: 128, dtype: float64"
      ]
     },
     "execution_count": 30,
     "metadata": {},
     "output_type": "execute_result"
    }
   ],
   "source": [
    "y_test"
   ]
  },
  {
   "cell_type": "code",
   "execution_count": null,
   "metadata": {},
   "outputs": [],
   "source": []
  }
 ],
 "metadata": {
  "kernelspec": {
   "display_name": "Python 3",
   "language": "python",
   "name": "python3"
  },
  "language_info": {
   "codemirror_mode": {
    "name": "ipython",
    "version": 3
   },
   "file_extension": ".py",
   "mimetype": "text/x-python",
   "name": "python",
   "nbconvert_exporter": "python",
   "pygments_lexer": "ipython3",
   "version": "3.12.1"
  }
 },
 "nbformat": 4,
 "nbformat_minor": 2
}
